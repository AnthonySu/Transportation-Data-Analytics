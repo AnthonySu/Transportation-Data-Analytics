{
 "cells": [
  {
   "cell_type": "markdown",
   "metadata": {},
   "source": [
    "We can't store data in the cloud notebook, so we start by downloading it. The !wget commands use the linux shell to download the necessary data sets"
   ]
  },
  {
   "cell_type": "code",
   "execution_count": null,
   "metadata": {
    "collapsed": false
   },
   "outputs": [],
   "source": [
    "!wget -N https://raw.githubusercontent.com/jvns/pandas-cookbook/master/data/311-service-requests.csv\n",
    "!wget -N https://raw.githubusercontent.com/jvns/pandas-cookbook/master/data/bikes.csv\n",
    "!wget -N https://raw.githubusercontent.com/jvns/pandas-cookbook/master/data/popularity-contest\n",
    "!wget -N https://raw.githubusercontent.com/jvns/pandas-cookbook/master/data/weather_2012.csv\n",
    "!wget -N https://raw.githubusercontent.com/jvns/pandas-cookbook/master/data/weather_2012.sqlite"
   ]
  },
  {
   "cell_type": "markdown",
   "metadata": {},
   "source": [
    "To check that the data has been downloaded successfully we list files on the cloud virtual machine."
   ]
  },
  {
   "cell_type": "code",
   "execution_count": null,
   "metadata": {
    "collapsed": false
   },
   "outputs": [],
   "source": [
    "!ls -lhF"
   ]
  }
 ],
 "metadata": {
  "kernelspec": {
   "display_name": "Python 3",
   "language": "python",
   "name": "python3"
  },
  "language_info": {
   "codemirror_mode": {
    "name": "ipython",
    "version": 3
   },
   "file_extension": ".py",
   "mimetype": "text/x-python",
   "name": "python",
   "nbconvert_exporter": "python",
   "pygments_lexer": "ipython3",
   "version": "3.5.1"
  }
 },
 "nbformat": 4,
 "nbformat_minor": 2
}
